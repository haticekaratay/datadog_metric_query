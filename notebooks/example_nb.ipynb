{
 "cells": [
  {
   "cell_type": "code",
   "execution_count": 3,
   "id": "0931293b-76d9-42dd-9839-612b89166e91",
   "metadata": {},
   "outputs": [],
   "source": [
    "from ddtrace import tracer\n",
    "import time\n",
    "import math, random\n",
    "import multiprocessing"
   ]
  },
  {
   "cell_type": "code",
   "execution_count": 4,
   "id": "d79a468b-cd24-4d3f-b779-be1ee850f306",
   "metadata": {},
   "outputs": [],
   "source": [
    "def cpu_intensive_task(seconds):\n",
    "    \"\"\"A function that performs a CPU-intensive task.\"\"\"\n",
    "    start = time.time()\n",
    "    while time.time() - start < seconds:\n",
    "        # Perform a simple but potentially cpu-heavy calculation\n",
    "        a = math.sqrt(random.random())"
   ]
  },
  {
   "cell_type": "code",
   "execution_count": 5,
   "id": "265bae7c-587e-4338-b1e4-8f1640825e19",
   "metadata": {},
   "outputs": [],
   "source": [
    "def hog_system(hog_func, seconds):\n",
    "    ctx = multiprocessing.get_context(\"fork\")\n",
    "    num_cores = multiprocessing.cpu_count()\n",
    "    processes = []\n",
    "    print(f\"Starting {num_cores} processes to spike system...\")\n",
    "    for _ in range(num_cores):\n",
    "        p = ctx.Process(target=hog_func, args=(seconds,))\n",
    "        processes.append(p)\n",
    "        p.start()\n",
    "    for p in processes:\n",
    "        p.join() # Wait for processes to complete\n",
    "    print(\"DONE\")"
   ]
  },
  {
   "cell_type": "code",
   "execution_count": 6,
   "id": "3030738d-4101-42ff-aa9c-ecdcb357e22f",
   "metadata": {},
   "outputs": [
    {
     "name": "stdout",
     "output_type": "stream",
     "text": [
      "Starting 2 processes to spike system...\n",
      "DONE\n"
     ]
    }
   ],
   "source": [
    "@tracer.wrap(resource=\"cpu_spike_imviz\",service=\"imviz\",name=\"adding_name\")\n",
    "def run_cpu_spike():\n",
    "    hog_system(cpu_intensive_task, 30)\n",
    "run_cpu_spike()"
   ]
  },
  {
   "cell_type": "code",
   "execution_count": null,
   "id": "c60a5629-5a31-43cf-b36c-e28b508b2d9e",
   "metadata": {},
   "outputs": [],
   "source": []
  }
 ],
 "metadata": {
  "kernelspec": {
   "display_name": "Roman Calibration",
   "language": "python",
   "name": "roman-cal"
  },
  "language_info": {
   "codemirror_mode": {
    "name": "ipython",
    "version": 3
   },
   "file_extension": ".py",
   "mimetype": "text/x-python",
   "name": "python",
   "nbconvert_exporter": "python",
   "pygments_lexer": "ipython3",
   "version": "3.12.9"
  }
 },
 "nbformat": 4,
 "nbformat_minor": 5
}
